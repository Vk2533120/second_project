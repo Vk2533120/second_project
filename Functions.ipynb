{
 "cells": [
  {
   "cell_type": "code",
   "execution_count": null,
   "id": "997b45c7",
   "metadata": {},
   "outputs": [],
   "source": [
    "def message():\n",
    "    print(\"vishnu\")\n",
    "message()    "
   ]
  },
  {
   "cell_type": "code",
   "execution_count": null,
   "id": "9c415a63",
   "metadata": {},
   "outputs": [],
   "source": [
    "def fun(name):\n",
    "    print(\"NAme is:\",name)\n",
    "fun(\"vishnu\") "
   ]
  },
  {
   "cell_type": "code",
   "execution_count": null,
   "id": "34ca70c7",
   "metadata": {},
   "outputs": [],
   "source": [
    "def fun2(name,age,rank):\n",
    "    print(\"My Nmaee Is:\",name)\n",
    "    print(\"My Age Is:\",age)\n",
    "    print(\"Rank:\",rank)\n",
    "fun2(\"vishnu\",22,1)\n",
    "        "
   ]
  },
  {
   "cell_type": "code",
   "execution_count": null,
   "id": "76d6926c",
   "metadata": {},
   "outputs": [],
   "source": [
    "def add(x,y):\n",
    "    return x+y\n",
    "result=add(2,3)\n",
    "print(\"Sum:\",result)"
   ]
  },
  {
   "cell_type": "code",
   "execution_count": null,
   "id": "5a24aa8c",
   "metadata": {},
   "outputs": [],
   "source": [
    "a = int(input(\"Enter a num 1:\"))\n",
    "b = int(input(\"Enter a num 2:\"))\n",
    "def add(a,b):\n",
    "    c=a+b\n",
    "    return c\n",
    "result=add(a,b)\n",
    "print(\"Sum:\",result)"
   ]
  },
  {
   "cell_type": "code",
   "execution_count": null,
   "id": "fa644429",
   "metadata": {},
   "outputs": [],
   "source": [
    "# Example list\n",
    "def add(numbers):\n",
    "    total = 0\n",
    "\n",
    "    for num in numbers:\n",
    "        total += num\n",
    "\n",
    "    return total\n",
    "\n",
    "numbers = [1,2,3,4,5]\n",
    "result = add(numbers)\n",
    "print(result)\n"
   ]
  },
  {
   "cell_type": "code",
   "execution_count": null,
   "id": "d677f3a5",
   "metadata": {},
   "outputs": [],
   "source": [
    "def show():\n",
    "    print(\"good\")\n",
    "print(show())    "
   ]
  },
  {
   "cell_type": "code",
   "execution_count": null,
   "id": "77cdf27f",
   "metadata": {},
   "outputs": [],
   "source": [
    "def show():\n",
    "    return \"Good\"\n",
    "show()"
   ]
  },
  {
   "cell_type": "code",
   "execution_count": null,
   "id": "4913b7eb",
   "metadata": {},
   "outputs": [],
   "source": [
    "def add(x,y):\n",
    "    print(x+y)\n",
    "add(10,15)"
   ]
  },
  {
   "cell_type": "code",
   "execution_count": null,
   "id": "307506df",
   "metadata": {},
   "outputs": [],
   "source": [
    "#Bulit in funtion\n",
    "import math \n",
    "print(math.pow(10,2))\n",
    "print(math.pi)\n",
    "print((max([10,20,30,40,50,60])))\n",
    "print((min([10,20,30,40,50,60])))\n",
    "a=[10,20,30,40,50,60]\n",
    "print(sum(a))"
   ]
  },
  {
   "cell_type": "code",
   "execution_count": 5,
   "id": "32b0d3d5",
   "metadata": {},
   "outputs": [
    {
     "name": "stdout",
     "output_type": "stream",
     "text": [
      "33\n"
     ]
    }
   ],
   "source": [
    "print(abs(33))"
   ]
  },
  {
   "cell_type": "code",
   "execution_count": 11,
   "id": "7e118b8b",
   "metadata": {
    "scrolled": true
   },
   "outputs": [
    {
     "name": "stdout",
     "output_type": "stream",
     "text": [
      "30\n",
      "20\n"
     ]
    }
   ],
   "source": [
    "#Function Argument with defaul values:\n",
    "def add(a,b=10):\n",
    "    print(a+b)\n",
    "add(10,20)\n",
    "add(10)"
   ]
  },
  {
   "cell_type": "code",
   "execution_count": 19,
   "id": "97200c12",
   "metadata": {},
   "outputs": [
    {
     "name": "stdout",
     "output_type": "stream",
     "text": [
      "6\n"
     ]
    }
   ],
   "source": [
    "#function aruguments with arbirtary aruguments:\n",
    "def show(li):\n",
    "    plus = 0\n",
    "    for i in li:\n",
    "        plus += 1\n",
    "    print(plus)\n",
    "li = [1,2,3,4,5,6]    \n",
    "show(li)       "
   ]
  },
  {
   "cell_type": "code",
   "execution_count": 52,
   "id": "69b0e779",
   "metadata": {},
   "outputs": [
    {
     "name": "stdout",
     "output_type": "stream",
     "text": [
      "1\n"
     ]
    }
   ],
   "source": [
    "def small(li):\n",
    "    n = len(li)\n",
    "    for i in range(n):\n",
    "        for j in range(i+1,n):\n",
    "            if li[i] < li[j]:\n",
    "                li[i],li[j] = li[j],li[i]\n",
    "    print(li[-1])\n",
    "li=[12,6,34,21,6,8,1,2,3,4] \n",
    "small(li)\n",
    "            \n",
    "            "
   ]
  },
  {
   "cell_type": "markdown",
   "id": "03d86f50",
   "metadata": {},
   "source": [
    "\n",
    "  "
   ]
  },
  {
   "cell_type": "code",
   "execution_count": 57,
   "id": "29e30e4a",
   "metadata": {},
   "outputs": [
    {
     "name": "stdout",
     "output_type": "stream",
     "text": [
      "1\n"
     ]
    }
   ],
   "source": [
    "def kuttyvalue(li):\n",
    "    mini=li[0]\n",
    "    for i in li:\n",
    "        if i < mini:\n",
    "            mini = i\n",
    "    print(mini)\n",
    "li = [20,12,6,34,21,6,8,1,2,3,4,99]\n",
    "kuttyvalue(li)"
   ]
  },
  {
   "cell_type": "code",
   "execution_count": 59,
   "id": "e5b9d1d7",
   "metadata": {},
   "outputs": [
    {
     "name": "stdout",
     "output_type": "stream",
     "text": [
      "120\n"
     ]
    }
   ],
   "source": [
    "def multi(numbers):\n",
    "    total = 1\n",
    "\n",
    "    for num in numbers:\n",
    "        total *= num\n",
    "\n",
    "    return total\n",
    "\n",
    "numbers = [1,2,3,4,5]\n",
    "result = multi(numbers)\n",
    "print(result)\n"
   ]
  },
  {
   "cell_type": "code",
   "execution_count": 1,
   "id": "9ae94443",
   "metadata": {},
   "outputs": [
    {
     "name": "stdout",
     "output_type": "stream",
     "text": [
      "!dlroW ,olleH\n"
     ]
    }
   ],
   "source": [
    "def reverse_string(input_string):\n",
    "    return input_string[::-1]\n",
    "\n",
    "# Test the function\n",
    "input_string = \"Hello, World!\"\n",
    "reversed_string = reverse_string(input_string)\n",
    "print(reversed_string)\n",
    "\n",
    "      \n",
    "    "
   ]
  },
  {
   "cell_type": "code",
   "execution_count": 6,
   "id": "92e1e813",
   "metadata": {},
   "outputs": [
    {
     "name": "stdout",
     "output_type": "stream",
     "text": [
      "The maximum of first three numbers in the list [21, 34, 56, 12, 34, 2] is:56\n"
     ]
    }
   ],
   "source": [
    "#Find maximum of three numbers\n",
    "def find_maximum(l1):\n",
    "    if len(l1) < 3:\n",
    "        return \"List should have at least three numbers\"\n",
    "    return max(l1[0],l1[1],l1[2])\n",
    "\n",
    "l1=[21,34,56,12,34,2]\n",
    "result = find_maximum(l1)\n",
    "print(f\"The maximum of first three numbers in the list {l1} is:{result}\")\n"
   ]
  },
  {
   "cell_type": "code",
   "execution_count": 8,
   "id": "abec82ee",
   "metadata": {},
   "outputs": [
    {
     "name": "stdout",
     "output_type": "stream",
     "text": [
      "The first largest number in the list [10, 20, 15, 5, 25] is: 25\n",
      "The second largest number in the list [10, 20, 15, 5, 25] is: 20\n",
      "The third largest number in the list [10, 20, 15, 5, 25] is: 15\n"
     ]
    }
   ],
   "source": [
    "def find_largest_3(numbers):\n",
    "    if len(numbers) < 3:\n",
    "        return \"List should have at least 3 numbers\"\n",
    "    \n",
    "    sorted_numbers = sorted(numbers, reverse=True)\n",
    "    return sorted_numbers[0], sorted_numbers[1], sorted_numbers[2]\n",
    "\n",
    "# Test the function\n",
    "number_list = [10, 20, 15, 5, 25]\n",
    "first_largest, second_largest, third_largest = find_largest_3(number_list)\n",
    "print(f\"The first largest number in the list {number_list} is: {first_largest}\")\n",
    "print(f\"The second largest number in the list {number_list} is: {second_largest}\")\n",
    "print(f\"The third largest number in the list {number_list} is: {third_largest}\")\n"
   ]
  },
  {
   "cell_type": "code",
   "execution_count": 27,
   "id": "fe1d5c92",
   "metadata": {},
   "outputs": [
    {
     "name": "stdout",
     "output_type": "stream",
     "text": [
      "Enter the size of the list:4\n",
      "[0, 1, 2, 3]\n"
     ]
    }
   ],
   "source": [
    "size = int(input(\"Enter the size of the list:\"))\n",
    "li=[]\n",
    "for i in range(size):\n",
    "     li =li + [i]\n",
    "print(li)"
   ]
  },
  {
   "cell_type": "code",
   "execution_count": 31,
   "id": "54e1ff81",
   "metadata": {},
   "outputs": [
    {
     "name": "stdout",
     "output_type": "stream",
     "text": [
      "my name is: {'fname': 'vishnu', 'lname': 'Kumar'}\n"
     ]
    }
   ],
   "source": [
    "def myfuct(**kid):\n",
    "    print(\"my name is:\",kid)\n",
    "    \n",
    "myfuct(fname=\"vishnu\",lname=\"Kumar\")"
   ]
  },
  {
   "cell_type": "code",
   "execution_count": 11,
   "id": "98d1301a",
   "metadata": {},
   "outputs": [
    {
     "name": "stdout",
     "output_type": "stream",
     "text": [
      "Enter your name:vishnu\n",
      "Enter your mailid:vk2533120@gmail.com\n",
      "Enter a ten no9362617622\n",
      "name : vishnu\n",
      "mail : vk2533120@gmail.com\n",
      "mno : 9362617622\n"
     ]
    }
   ],
   "source": [
    "def fn(**name):\n",
    "    for key,value in name.items():\n",
    "        print(key,\":\",value)\n",
    "name = input(\"Enter your name:\")\n",
    "mail_id = input(\"Enter your mailid:\")\n",
    "no = int(input(\"Enter a ten no\"))        \n",
    "fn(name=name,mail=mail_id,mno=no)        \n"
   ]
  },
  {
   "cell_type": "code",
   "execution_count": 43,
   "id": "241e14e3",
   "metadata": {},
   "outputs": [
    {
     "name": "stdout",
     "output_type": "stream",
     "text": [
      "\n"
     ]
    }
   ],
   "source": []
  },
  {
   "cell_type": "code",
   "execution_count": 12,
   "id": "ca3e989d",
   "metadata": {},
   "outputs": [
    {
     "name": "stdout",
     "output_type": "stream",
     "text": [
      "Order Summary:\n",
      "- Burger\n",
      "- Fries\n",
      "- Coke\n",
      "\n",
      "Special Requests:\n",
      "- Burger: No onions\n",
      "- Fries: Extra crispy\n",
      "- Drink: Diet Coke\n"
     ]
    }
   ],
   "source": [
    "def place_order(*items, **special_requests):\n",
    "    print(\"Order Summary:\")\n",
    "    for item in items:\n",
    "        print(f\"- {item}\")\n",
    "    if special_requests:\n",
    "        print(\"\\nSpecial Requests:\")\n",
    "        for request, detail in special_requests.items():\n",
    "            print(f\"- {request}: {detail}\")\n",
    "\n",
    "place_order(\"Burger\", \"Fries\", \"Coke\", Burger=\"No onions\", Fries=\"Extra crispy\", Drink=\"Diet Coke\")"
   ]
  },
  {
   "cell_type": "code",
   "execution_count": null,
   "id": "77d6b421",
   "metadata": {},
   "outputs": [],
   "source": [
    "User Profile Creation¶\n",
    "In an application that requires user profile creation, a function might need to handle an arbitrary set of user attributes, where some attributes are common to all users and others are specific to individual users."
   ]
  },
  {
   "cell_type": "code",
   "execution_count": 13,
   "id": "a21503cc",
   "metadata": {},
   "outputs": [
    {
     "name": "stdout",
     "output_type": "stream",
     "text": [
      "Creating profile for johndoe:\n",
      "- Email: john@example.com\n",
      "- Age: 30\n",
      "- Country: USA\n",
      "- Interests: Cycling, Hiking\n"
     ]
    }
   ],
   "source": [
    "def create_user_profile(username, email, **additional_details):\n",
    "    print(f\"Creating profile for {username}:\")\n",
    "    print(f\"- Email: {email}\")\n",
    "    for detail, value in additional_details.items():\n",
    "        print(f\"- {detail.capitalize()}: {value}\")\n",
    "\n",
    "create_user_profile(\"johndoe\", \"john@example.com\", age=30, country=\"USA\", interests=\"Cycling, Hiking\")"
   ]
  },
  {
   "cell_type": "code",
   "execution_count": 18,
   "id": "841e368a",
   "metadata": {},
   "outputs": [
    {
     "name": "stdout",
     "output_type": "stream",
     "text": [
      "6\n"
     ]
    }
   ],
   "source": [
    "#Recursion\n",
    "def fact(a):\n",
    "    if a==1:\n",
    "        return 1\n",
    "    else:\n",
    "        return(a*fact(a-1))\n",
    "print(fact(3))"
   ]
  },
  {
   "cell_type": "code",
   "execution_count": 9,
   "id": "1cec58fd",
   "metadata": {},
   "outputs": [
    {
     "name": "stdout",
     "output_type": "stream",
     "text": [
      "5\n"
     ]
    }
   ],
   "source": [
    "def fib(a):\n",
    "    if a == 0:\n",
    "        return 0\n",
    "    elif a == 1:\n",
    "        return 1\n",
    "    else:\n",
    "        return fib(a-1)+fib(a-2)\n",
    "print(fib(5))"
   ]
  },
  {
   "cell_type": "code",
   "execution_count": null,
   "id": "22621800",
   "metadata": {},
   "outputs": [],
   "source": [
    "Logging System\n",
    "In a system where logging of events or errors is required, a function could use arbitrary arguments to accept multiple messages and keyword arguments to specify additional metadata about the log."
   ]
  },
  {
   "cell_type": "code",
   "execution_count": 12,
   "id": "866d33bc",
   "metadata": {},
   "outputs": [
    {
     "name": "stdout",
     "output_type": "stream",
     "text": [
      "Log Entry:\n",
      "- User logged in\n",
      "- Access granted\n",
      "Metadata:\n",
      "- timestamp: 2024-02-20 12:34:56\n",
      "- user_id: 42\n"
     ]
    }
   ],
   "source": [
    "def log_event(*messages, **metadata):\n",
    "    print(\"Log Entry:\")\n",
    "    for message in messages:\n",
    "        print(f\"- {message}\")\n",
    "    if metadata:\n",
    "        print(\"Metadata:\")\n",
    "        for key, value in metadata.items():\n",
    "            print(f\"- {key}: {value}\")\n",
    "\n",
    "log_event(\"User logged in\", \"Access granted\", timestamp=\"2024-02-20 12:34:56\",user_id=\"42\")"
   ]
  },
  {
   "cell_type": "code",
   "execution_count": null,
   "id": "7587c62c",
   "metadata": {},
   "outputs": [],
   "source": []
  },
  {
   "cell_type": "code",
   "execution_count": null,
   "id": "7000b47e",
   "metadata": {},
   "outputs": [],
   "source": []
  }
 ],
 "metadata": {
  "kernelspec": {
   "display_name": "Python 3 (ipykernel)",
   "language": "python",
   "name": "python3"
  },
  "language_info": {
   "codemirror_mode": {
    "name": "ipython",
    "version": 3
   },
   "file_extension": ".py",
   "mimetype": "text/x-python",
   "name": "python",
   "nbconvert_exporter": "python",
   "pygments_lexer": "ipython3",
   "version": "3.11.5"
  }
 },
 "nbformat": 4,
 "nbformat_minor": 5
}
